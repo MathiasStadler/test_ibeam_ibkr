{
 "cells": [
  {
   "cell_type": "markdown",
   "metadata": {},
   "source": [
    "[FROM HERE](https://saturncloud.io/blog/how-to-use-bash-commands-in-jupyter-notebook/)"
   ]
  },
  {
   "cell_type": "markdown",
   "metadata": {},
   "source": [
    "# jupyter install bash kernel\n",
    "\n",
    "1. open vscode\n",
    "2. open NEW terminal inside vscode => Terminal -> New Terminal\n",
    "3. python already install ?? try out => python3 --version\n",
    "4. ``` pip install bash_kernel ```\n",
    "5. ``` python -m bash_kernel.install ```\n",
    "6. restart vscode\n",
    "7. open a new notebook\n",
    "8. use menu => Select Kernel\n",
    "9. Choice => Select Another Kernel\n",
    "10. Choice => Jupyter Kernel\n",
    "11. Choice => Bash"
   ]
  },
  {
   "cell_type": "code",
   "execution_count": null,
   "metadata": {
    "vscode": {
     "languageId": "bat"
    }
   },
   "outputs": [],
   "source": []
  }
 ],
 "metadata": {
  "language_info": {
   "name": "python"
  },
  "orig_nbformat": 4
 },
 "nbformat": 4,
 "nbformat_minor": 2
}
