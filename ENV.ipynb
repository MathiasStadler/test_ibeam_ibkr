{
 "cells": [
  {
   "cell_type": "code",
   "execution_count": 1,
   "metadata": {
    "vscode": {
     "languageId": "shellscript"
    }
   },
   "outputs": [
    {
     "name": "stdout",
     "output_type": "stream",
     "text": [
      "Linux trapapa-ThinkPad-T430 6.2.0-33-generic #33~22.04.1-Ubuntu SMP PREEMPT_DYNAMIC Thu Sep  7 10:33:52 UTC 2 x86_64 x86_64 x86_64 GNU/Linux\n"
     ]
    }
   ],
   "source": [
    "uname -a"
   ]
  },
  {
   "cell_type": "code",
   "execution_count": 8,
   "metadata": {
    "vscode": {
     "languageId": "shellscript"
    }
   },
   "outputs": [
    {
     "name": "stdout",
     "output_type": "stream",
     "text": [
      "tput: No value for $TERM and no -T specified\n",
      "tput: No value for $TERM and no -T specified\n",
      "Argument \"\" isn't numeric in numeric eq (==) at /usr/bin/inxi line 465.\n",
      "Argument \"\" isn't numeric in numeric eq (==) at /usr/bin/inxi line 468.\n",
      "\u001b[1;34mCPU:\u001b[0m dual\u001b[0m\n",
      "\u001b[0mcore\u001b[0m\n",
      "\u001b[0mIntel\u001b[0m\n",
      "\u001b[0mCore\u001b[0m\n",
      "\u001b[0mi5-3320M\u001b[0m\n",
      "\u001b[0m(-MT\u001b[0m\n",
      "\u001b[0mMCP-)\u001b[0m\n",
      "\u001b[1;34mspeed/min/max:\u001b[0m 2753/1200/3300 MHz\u001b[0m\n",
      "\u001b[1;34mKernel:\u001b[0m 6.2.0-33-generic x86_64\u001b[0m\n",
      "\u001b[1;34mUp:\u001b[0m 1h 41m\u001b[0m\n",
      "\u001b[1;34mMem:\u001b[0m 7265.9/15666.9\u001b[0m\n",
      "\u001b[0mMiB\u001b[0m\n",
      "\u001b[0m(46.4%)\u001b[0m\n",
      "\u001b[1;34mStorage:\u001b[0m 610.79\u001b[0m\n",
      "\u001b[0mGiB\u001b[0m\n",
      "\u001b[0m(17.4%\u001b[0m\n",
      "\u001b[0mused)\u001b[0m\n",
      "\u001b[1;34mProcs:\u001b[0m 341\u001b[0m\n",
      "\u001b[1;34mShell:\u001b[0m Bash\u001b[0m\n",
      "\u001b[1;34minxi:\u001b[0m 3.3.13\u001b[0m\n"
     ]
    }
   ],
   "source": [
    "inxi\n"
   ]
  }
 ],
 "metadata": {
  "kernelspec": {
   "display_name": "Bash",
   "language": "bash",
   "name": "bash"
  },
  "language_info": {
   "codemirror_mode": "shell",
   "file_extension": ".sh",
   "mimetype": "text/x-sh",
   "name": "bash"
  },
  "orig_nbformat": 4
 },
 "nbformat": 4,
 "nbformat_minor": 2
}
