{
 "cells": [
  {
   "cell_type": "markdown",
   "metadata": {},
   "source": [
    "- [IBean GitHub](https://github.com/Voyz/ibeam)\n",
    "- [good explanation video](https://www.youtube.com/watch?v=O1OhiiCx6Ho)\n",
    "- [vid over IB Gateway FIRST STEP](https://www.interactivebrokers.com/en/index.php?f=16457&ns=T)"
   ]
  },
  {
   "cell_type": "markdown",
   "metadata": {},
   "source": [
    "# create temp dir"
   ]
  },
  {
   "cell_type": "code",
   "execution_count": null,
   "metadata": {
    "vscode": {
     "languageId": "shellscript"
    }
   },
   "outputs": [],
   "source": [
    "#current directory\n",
    "!pwd"
   ]
  },
  {
   "cell_type": "code",
   "execution_count": null,
   "metadata": {
    "vscode": {
     "languageId": "shellscript"
    }
   },
   "outputs": [],
   "source": [
    "# bash version\n",
    "echo \"${BASH_VERSION}\""
   ]
  },
  {
   "cell_type": "markdown",
   "metadata": {},
   "source": [
    "# create tmp dir"
   ]
  },
  {
   "cell_type": "markdown",
   "metadata": {},
   "source": [
    "[FROM HERE](https://stackoverflow.com/questions/4632028/how-to-create-a-temporary-directory)"
   ]
  },
  {
   "cell_type": "code",
   "execution_count": null,
   "metadata": {
    "vscode": {
     "languageId": "shellscript"
    }
   },
   "outputs": [],
   "source": [
    "#!/bin/bash    \n",
    "\n",
    "# the directory of the script\n",
    "DIR=\"$( cd \"$( dirname \"${BASH_SOURCE[0]}\" )\" && pwd )\"\n",
    "\n",
    "# the temp directory used, within $DIR\n",
    "# omit the -p parameter to create a temporal directory in the default location\n",
    "WORK_DIR=`mktemp -d -p \"$DIR\"`\n",
    "echo \"create follow directory =>  $WORK_DIR\"\n",
    "\n",
    "# check if tmp dir was created\n",
    "if [[ ! \"$WORK_DIR\" || ! -d \"$WORK_DIR\" ]]; then\n",
    "  echo \"Could not create temp dir\"\n",
    "  exit 1\n",
    "fi\n",
    "\n",
    "# deletes the temp directory\n",
    "function cleanup {      \n",
    "  rm -rf \"$WORK_DIR\"\n",
    "  echo \"Deleted temp working directory $WORK_DIR\"\n",
    "}\n",
    "\n",
    "# register the cleanup function to be called on the EXIT signal\n",
    "# trap cleanup EXIT"
   ]
  },
  {
   "cell_type": "code",
   "execution_count": null,
   "metadata": {
    "vscode": {
     "languageId": "shellscript"
    }
   },
   "outputs": [],
   "source": [
    "echo \"change inside work_dir =>  $WORK_DIR\"\n",
    "cd $WORK_DIR && pwd -P"
   ]
  },
  {
   "cell_type": "markdown",
   "metadata": {},
   "source": [
    "echo \"clone repo IBean\""
   ]
  },
  {
   "cell_type": "code",
   "execution_count": null,
   "metadata": {
    "vscode": {
     "languageId": "shellscript"
    }
   },
   "outputs": [],
   "source": [
    "git clone https://github.com/Voyz/ibeam.git"
   ]
  },
  {
   "cell_type": "markdown",
   "metadata": {},
   "source": [
    "create env.list file with IBKR credential"
   ]
  },
  {
   "cell_type": "code",
   "execution_count": null,
   "metadata": {
    "vscode": {
     "languageId": "shellscript"
    }
   },
   "outputs": [],
   "source": [
    "echo \"IBEAM_ACCOUNT=<MY_ACCOUNT_NAME>\" > env.list_sample\n",
    "echo \"IBEAM_PASSWORD=<MY_PASSWD>\" >> env.list_sample"
   ]
  },
  {
   "cell_type": "markdown",
   "metadata": {},
   "source": [
    "start and it is not available download first docker container voyz/ibeam"
   ]
  },
  {
   "cell_type": "code",
   "execution_count": null,
   "metadata": {
    "vscode": {
     "languageId": "shellscript"
    }
   },
   "outputs": [],
   "source": [
    "docker run --env-file=env.list -p 5000:5000 --name ibeam voyz/ibeam"
   ]
  },
  {
   "cell_type": "markdown",
   "metadata": {},
   "source": [
    "list all installed docker container and container id"
   ]
  },
  {
   "cell_type": "code",
   "execution_count": null,
   "metadata": {
    "vscode": {
     "languageId": "shellscript"
    }
   },
   "outputs": [],
   "source": [
    "docker ps -a"
   ]
  },
  {
   "cell_type": "markdown",
   "metadata": {},
   "source": [
    "start docker container"
   ]
  },
  {
   "cell_type": "code",
   "execution_count": null,
   "metadata": {
    "vscode": {
     "languageId": "shellscript"
    }
   },
   "outputs": [],
   "source": [
    "#sudo docker start <CONTAINER ID>\n",
    "docker start 59ea05c2142b"
   ]
  },
  {
   "cell_type": "markdown",
   "metadata": {},
   "source": [
    "show container logs"
   ]
  },
  {
   "cell_type": "code",
   "execution_count": null,
   "metadata": {
    "vscode": {
     "languageId": "shellscript"
    }
   },
   "outputs": [],
   "source": [
    "#docker logs <CONTAINER ID>\n",
    "docker logs  59ea05c2142b"
   ]
  },
  {
   "cell_type": "markdown",
   "metadata": {},
   "source": [
    "[show process inside container from outside](https://docs.docker.com/engine/reference/commandline/container_top/)"
   ]
  },
  {
   "cell_type": "code",
   "execution_count": null,
   "metadata": {
    "vscode": {
     "languageId": "shellscript"
    }
   },
   "outputs": [],
   "source": [
    "# docker container top <CONTAINER ID>\n",
    "docker container top 59ea05c2142b"
   ]
  },
  {
   "cell_type": "markdown",
   "metadata": {},
   "source": []
  },
  {
   "cell_type": "code",
   "execution_count": null,
   "metadata": {
    "vscode": {
     "languageId": "shellscript"
    }
   },
   "outputs": [],
   "source": [
    "# docker container inspect <CONTAINER ID>\n",
    "docker container inspect 59ea05c2142b"
   ]
  }
 ],
 "metadata": {
  "kernelspec": {
   "display_name": "Bash",
   "language": "bash",
   "name": "bash"
  },
  "language_info": {
   "codemirror_mode": "shell",
   "file_extension": ".sh",
   "mimetype": "text/x-sh",
   "name": "bash"
  },
  "orig_nbformat": 4
 },
 "nbformat": 4,
 "nbformat_minor": 2
}
