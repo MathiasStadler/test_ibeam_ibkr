{
 "cells": [
  {
   "cell_type": "markdown",
   "metadata": {},
   "source": [
    "- [IBean GitHub](https://github.com/Voyz/ibeam)\n",
    "- [good explanation video](https://www.youtube.com/watch?v=O1OhiiCx6Ho)\n",
    "- [vid over IB Gateway FIRST STEP](https://www.interactivebrokers.com/en/index.php?f=16457&ns=T)"
   ]
  },
  {
   "cell_type": "code",
   "execution_count": null,
   "metadata": {
    "vscode": {
     "languageId": "plaintext"
    }
   },
   "outputs": [],
   "source": []
  }
 ],
 "metadata": {
  "language_info": {
   "name": "python"
  },
  "orig_nbformat": 4
 },
 "nbformat": 4,
 "nbformat_minor": 2
}
