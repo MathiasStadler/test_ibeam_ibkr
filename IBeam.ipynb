{
 "cells": [
  {
   "cell_type": "markdown",
   "metadata": {},
   "source": [
    "[FROM HERE](https://github.com/Voyz/ibeam)\n",
    "[good explain video](https://www.youtube.com/watch?v=O1OhiiCx6Ho)\n",
    "[IB Gateway](https://www.interactivebrokers.com/en/index.php?f=16457&ns=T)"
   ]
  },
  {
   "cell_type": "code",
   "execution_count": null,
   "metadata": {
    "vscode": {
     "languageId": "plaintext"
    }
   },
   "outputs": [],
   "source": []
  }
 ],
 "metadata": {
  "language_info": {
   "name": "python"
  },
  "orig_nbformat": 4
 },
 "nbformat": 4,
 "nbformat_minor": 2
}
